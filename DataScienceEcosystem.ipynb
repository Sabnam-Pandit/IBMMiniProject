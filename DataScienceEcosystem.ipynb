{
 "cells": [
  {
   "cell_type": "markdown",
   "id": "7c7c45b7-c50c-434a-8ac5-6be525be4e28",
   "metadata": {},
   "source": [
    "#Data Science Tools and Ecosystem"
   ]
  },
  {
   "cell_type": "markdown",
   "id": "edae424b-fb68-4a61-981d-f80816fada69",
   "metadata": {},
   "source": [
    "In this notebook, Data Science Tools and Ecosystem are summarized."
   ]
  },
  {
   "cell_type": "markdown",
   "id": "fe93dfa0-cf58-4ceb-9dbf-6c1c748f48e5",
   "metadata": {},
   "source": [
    "Some of the popular languages that Data Scientists use are:\n",
    "1. Python\n",
    "2. R\n",
    "3. SQL"
   ]
  },
  {
   "cell_type": "markdown",
   "id": "a49ae27b-54fb-4e4a-a90e-237c7d3b6681",
   "metadata": {},
   "source": []
  },
  {
   "cell_type": "markdown",
   "id": "d4369925-5375-4cca-8f62-93ca8df2661a",
   "metadata": {},
   "source": [
    "Some of the commonly used libraries used by Data Scientists include:\n",
    "1. Pandas\n",
    "2. Numpy\n",
    "3. MatPlotlib\n",
    "4. Sci-kit learn\n"
   ]
  },
  {
   "cell_type": "markdown",
   "id": "bff422d7-dee8-4485-83a8-aaf8acafcd99",
   "metadata": {},
   "source": [
    "|Data Science Tools |\n",
    "|:------------------:|\n",
    "| Jupyter Notebook   |\n",
    "| Spyder             |\n",
    "| RStudio            | \n"
   ]
  },
  {
   "cell_type": "markdown",
   "id": "d2364583-322e-4333-a364-ecf6d550ef5a",
   "metadata": {},
   "source": []
  },
  {
   "cell_type": "markdown",
   "id": "b0f253ba-1296-4d51-9d42-d1dfac8b9193",
   "metadata": {},
   "source": [
    "###Below are a few examples of evaluating arithmetic expressions in Python:\n"
   ]
  },
  {
   "cell_type": "markdown",
   "id": "724911ec-308a-4260-af4d-10f2ec572a5f",
   "metadata": {},
   "source": [
    " This a simple arithmetic expression to multiply  then add integers."
   ]
  },
  {
   "cell_type": "code",
   "execution_count": 6,
   "id": "1de4efbf-7f79-465c-8863-400c82be5d2d",
   "metadata": {},
   "outputs": [
    {
     "data": {
      "text/plain": [
       "17"
      ]
     },
     "execution_count": 6,
     "metadata": {},
     "output_type": "execute_result"
    }
   ],
   "source": [
    "(3*4)+5"
   ]
  },
  {
   "cell_type": "markdown",
   "id": "5bb8fe68-73ad-453f-8898-25e540b2916e",
   "metadata": {},
   "source": [
    "#This will convert 200 minutes to hours by diving by 60."
   ]
  },
  {
   "cell_type": "markdown",
   "id": "2707906c-b353-42b7-a4bf-ab5cd522e5c8",
   "metadata": {},
   "source": []
  },
  {
   "cell_type": "code",
   "execution_count": 9,
   "id": "88b2bcbf-4e97-4b98-a783-050ec7d36e5c",
   "metadata": {},
   "outputs": [
    {
     "data": {
      "text/plain": [
       "3"
      ]
     },
     "execution_count": 9,
     "metadata": {},
     "output_type": "execute_result"
    }
   ],
   "source": [
    "200//60"
   ]
  },
  {
   "cell_type": "markdown",
   "id": "74cb7d27-4d67-4be3-b7d8-78ae73cd54d7",
   "metadata": {},
   "source": [
    "**Objective:**"
   ]
  },
  {
   "cell_type": "markdown",
   "id": "8d602ed8-52ae-46db-834f-672cd17ec6ed",
   "metadata": {},
   "source": [
    "* DatacScience Tools\n",
    "* List popular languages for Data Science\n",
    "* Airthemetic equation"
   ]
  },
  {
   "cell_type": "markdown",
   "id": "de723493-5664-4fef-b399-a4f2dd41184c",
   "metadata": {},
   "source": [
    "##Author\n",
    "Sabnam"
   ]
  },
  {
   "cell_type": "code",
   "execution_count": null,
   "id": "dc173b42-ed47-4210-b74a-294ace7f49b6",
   "metadata": {},
   "outputs": [],
   "source": []
  }
 ],
 "metadata": {
  "kernelspec": {
   "display_name": "Python",
   "language": "python",
   "name": "conda-env-python-py"
  },
  "language_info": {
   "codemirror_mode": {
    "name": "ipython",
    "version": 3
   },
   "file_extension": ".py",
   "mimetype": "text/x-python",
   "name": "python",
   "nbconvert_exporter": "python",
   "pygments_lexer": "ipython3",
   "version": "3.7.12"
  }
 },
 "nbformat": 4,
 "nbformat_minor": 5
}
